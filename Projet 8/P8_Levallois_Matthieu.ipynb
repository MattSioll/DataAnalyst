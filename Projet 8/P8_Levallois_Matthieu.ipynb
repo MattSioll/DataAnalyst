{
 "cells": [
  {
   "cell_type": "code",
   "execution_count": 1,
   "metadata": {},
   "outputs": [],
   "source": [
    "from bs4 import BeautifulSoup as bs\n",
    "import requests"
   ]
  },
  {
   "cell_type": "code",
   "execution_count": 2,
   "metadata": {},
   "outputs": [],
   "source": [
    "source = requests.get('https://scomedy.com/quotes?page=1').text\n",
    "\n",
    "soup = bs(source, 'lxml')"
   ]
  },
  {
   "cell_type": "code",
   "execution_count": 112,
   "metadata": {},
   "outputs": [],
   "source": [
    "#print(soup.prettify())"
   ]
  },
  {
   "cell_type": "code",
   "execution_count": 108,
   "metadata": {},
   "outputs": [
    {
     "name": "stdout",
     "output_type": "stream",
     "text": [
      "Citation :\n",
      "Well, birthdays are merely symbolic of how another year has gone by and how little we've grown. No matter how desperate we are that someday a better self will emerge, with each flicker of the candles on the cake, we know it's not to be, that for the rest of our sad, wretched pathetic lives, this is who we areto the bitter end. Inevitably, irrevocably; happy birthday? No such thing.\n",
      " \n",
      "Nombre de vues :\n",
      "1207\n",
      " \n",
      "Thème :\n",
      "birthday\n",
      " \n",
      "Auteur :\n",
      "Jerry Seinfeld\n"
     ]
    }
   ],
   "source": [
    "quote = soup.find('div',class_='quote')\\\n",
    "            .find_all_next(string=True)[2]\n",
    "\n",
    "view = soup.find('div',class_='quote')\\\n",
    "           .find_all_next(string=True)[5]\\\n",
    "           .split(\" \")[1]\n",
    "\n",
    "Theme = soup.find('div',class_='quote')\\\n",
    "            .find_all_next(string=True)[14]\\\n",
    "            .split(\"#\")[1]\n",
    "\n",
    "comedian = soup.find('div',class_='comedian')\\\n",
    "               .a['href']\\\n",
    "               .split(\"/\")[2]\\\n",
    "               .replace(\"-\",\" \")\n",
    "\n",
    "print(\"Citation :\")\n",
    "print(quote)\n",
    "print(\" \")\n",
    "print(\"Nombre de vues :\")\n",
    "print(view)\n",
    "print(\" \")\n",
    "print(\"Thème :\")\n",
    "print(Theme)\n",
    "print(\" \")\n",
    "print(\"Auteur :\")\n",
    "print(comedian)"
   ]
  }
 ],
 "metadata": {
  "kernelspec": {
   "display_name": "Python 3",
   "language": "python",
   "name": "python3"
  },
  "language_info": {
   "codemirror_mode": {
    "name": "ipython",
    "version": 3
   },
   "file_extension": ".py",
   "mimetype": "text/x-python",
   "name": "python",
   "nbconvert_exporter": "python",
   "pygments_lexer": "ipython3",
   "version": "3.7.6"
  }
 },
 "nbformat": 4,
 "nbformat_minor": 4
}
