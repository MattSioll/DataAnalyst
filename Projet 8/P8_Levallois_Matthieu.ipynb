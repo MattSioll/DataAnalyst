{
 "cells": [
  {
   "cell_type": "code",
   "execution_count": 4,
   "metadata": {},
   "outputs": [],
   "source": [
    "from bs4 import BeautifulSoup as bs\n",
    "import requests"
   ]
  },
  {
   "cell_type": "code",
   "execution_count": 20,
   "metadata": {},
   "outputs": [],
   "source": [
    "source = requests.get('https://scomedy.com/quotes?page=1')\n",
    "\n",
    "soup = bs(source.text, 'lxml')"
   ]
  },
  {
   "cell_type": "code",
   "execution_count": 83,
   "metadata": {},
   "outputs": [],
   "source": [
    "#print(soup.prettify())"
   ]
  },
  {
   "cell_type": "code",
   "execution_count": 81,
   "metadata": {},
   "outputs": [
    {
     "name": "stdout",
     "output_type": "stream",
     "text": [
      "15\n",
      " \n",
      "Well, birthdays are merely symbolic of how another year has gone by and how little we've grown. No matter how desperate we are that someday a better self will emerge, with each flicker of the candles on the cake, we know it's not to be, that for the rest of our sad, wretched pathetic lives, this is who we areto the bitter end. Inevitably, irrevocably; happy birthday? No such thing.\n",
      " \n",
      "Jerry Seinfeld\n",
      " \n",
      "1227\n",
      " \n",
      "birthday\n",
      " \n",
      "My perfect date night: I pick you up. In my Kia Sorrento. You get in. There's candles in the car. You go 'Is that dangerous?\" and I go, Yes... but I like danger. We go to your favorite restaurant, and we have a fantastic meal. We come outside and we see my cars on fire. You go, \"Aziz, your cars on fire. Aren't you upset?\" I pull out a bag of marshmallows and I go, No. I knew this was gonna happen. And then I kiss you. In front of my burning car.\n",
      " \n",
      "Aziz Ansari\n",
      " \n",
      "947\n",
      " \n",
      "danger\n",
      " \n",
      "Jack and Jill went up the hill Both with a buck and a quarter, Jill came down with $2.50.\n",
      " \n",
      "Andrew Dice Clay\n",
      " \n",
      "927\n",
      " \n"
     ]
    },
    {
     "ename": "AttributeError",
     "evalue": "'NoneType' object has no attribute 'text'",
     "output_type": "error",
     "traceback": [
      "\u001b[0;31m---------------------------------------------------------------------------\u001b[0m",
      "\u001b[0;31mAttributeError\u001b[0m                            Traceback (most recent call last)",
      "\u001b[0;32m<ipython-input-81-435f0a97b9c6>\u001b[0m in \u001b[0;36m<module>\u001b[0;34m\u001b[0m\n\u001b[1;32m     17\u001b[0m     \u001b[0mprint\u001b[0m\u001b[0;34m(\u001b[0m\u001b[0mview\u001b[0m\u001b[0;34m)\u001b[0m\u001b[0;34m\u001b[0m\u001b[0;34m\u001b[0m\u001b[0m\n\u001b[1;32m     18\u001b[0m     \u001b[0mprint\u001b[0m\u001b[0;34m(\u001b[0m\u001b[0;34m\" \"\u001b[0m\u001b[0;34m)\u001b[0m\u001b[0;34m\u001b[0m\u001b[0;34m\u001b[0m\u001b[0m\n\u001b[0;32m---> 19\u001b[0;31m     \u001b[0mtheme\u001b[0m \u001b[0;34m=\u001b[0m \u001b[0mquote\u001b[0m\u001b[0;34m.\u001b[0m\u001b[0mfind\u001b[0m\u001b[0;34m(\u001b[0m\u001b[0;34m'li'\u001b[0m\u001b[0;34m)\u001b[0m\u001b[0;34m.\u001b[0m\u001b[0mtext\u001b[0m\u001b[0;34m.\u001b[0m\u001b[0msplit\u001b[0m\u001b[0;34m(\u001b[0m\u001b[0;34m\"#\"\u001b[0m\u001b[0;34m)\u001b[0m\u001b[0;34m[\u001b[0m\u001b[0;36m1\u001b[0m\u001b[0;34m]\u001b[0m\u001b[0;34m\u001b[0m\u001b[0;34m\u001b[0m\u001b[0m\n\u001b[0m\u001b[1;32m     20\u001b[0m     \u001b[0mprint\u001b[0m\u001b[0;34m(\u001b[0m\u001b[0mtheme\u001b[0m\u001b[0;34m)\u001b[0m\u001b[0;34m\u001b[0m\u001b[0;34m\u001b[0m\u001b[0m\n\u001b[1;32m     21\u001b[0m     \u001b[0mprint\u001b[0m\u001b[0;34m(\u001b[0m\u001b[0;34m\" \"\u001b[0m\u001b[0;34m)\u001b[0m\u001b[0;34m\u001b[0m\u001b[0;34m\u001b[0m\u001b[0m\n",
      "\u001b[0;31mAttributeError\u001b[0m: 'NoneType' object has no attribute 'text'"
     ]
    }
   ],
   "source": [
    "soup = bs(source.text, 'lxml')\n",
    "quotes = soup.find_all('div', {'class':'quote'})\n",
    "quote_list = []\n",
    "\n",
    "print(len(quotes))\n",
    "print(\" \")\n",
    "\n",
    "for quote in quotes:\n",
    "    citation = quote.find('p').text\n",
    "    print(citation)\n",
    "    print(\" \")\n",
    "    comedian = quote.find('div',class_='comedian').text.split(\"\\xa0\")[1].split('\\n')[0]\n",
    "    print(comedian)\n",
    "    print(\" \")\n",
    "    view = int(quote.find('span',class_='views').text.split(\" \")[1])\n",
    "    print(view)\n",
    "    print(\" \")\n",
    "    theme = quote.find('li').text.split(\"#\")[1]\n",
    "    print(theme)\n",
    "    print(\" \")\n",
    "    X=[citation,comedian,view,theme]\n",
    "    quote_list.append(X)"
   ]
  },
  {
   "cell_type": "code",
   "execution_count": null,
   "metadata": {},
   "outputs": [],
   "source": []
  }
 ],
 "metadata": {
  "kernelspec": {
   "display_name": "Python 3",
   "language": "python",
   "name": "python3"
  },
  "language_info": {
   "codemirror_mode": {
    "name": "ipython",
    "version": 3
   },
   "file_extension": ".py",
   "mimetype": "text/x-python",
   "name": "python",
   "nbconvert_exporter": "python",
   "pygments_lexer": "ipython3",
   "version": "3.7.6"
  }
 },
 "nbformat": 4,
 "nbformat_minor": 4
}
