{
 "cells": [
  {
   "cell_type": "markdown",
   "metadata": {},
   "source": [
    "## Table des matières"
   ]
  },
  {
   "cell_type": "markdown",
   "metadata": {},
   "source": [
    "- [Présentation des données](#Intro)\n",
    "- [1. Correction des données de consommation mensuelles de l'effet température (dues au chauffage électrique) en utilisant une régression linéaire](#chapitre_1)\n",
    "- [2. Désaisonnalisation de la consommation obtenue après correction, grâce aux moyennes mobiles](#chapitre_2)\n",
    "- [3. Prévision de la consommation (corrigée de l'effet température) sur un an, en utilisant la méthode de Holt Winters (lissage exponentiel) puis la méthode SARIMA sur la série temportelle](#chapitre_3)"
   ]
  },
  {
   "cell_type": "code",
   "execution_count": 1,
   "metadata": {},
   "outputs": [],
   "source": [
    "import numpy as np\n",
    "import pandas as pd"
   ]
  },
  {
   "cell_type": "markdown",
   "metadata": {},
   "source": [
    "<a id=\"Intro\"></a>\n",
    "## <span style=\"color: #030aa4\">Présentation des données</span>"
   ]
  },
  {
   "cell_type": "markdown",
   "metadata": {},
   "source": [
    "Les données mensuelles de consommation d'électricité en énergie proviennent du site https://www.rte-france.com/eco2mix/telecharger-les-indicateurs"
   ]
  },
  {
   "cell_type": "code",
   "execution_count": 19,
   "metadata": {},
   "outputs": [
    {
     "data": {
      "text/html": [
       "<div>\n",
       "<style scoped>\n",
       "    .dataframe tbody tr th:only-of-type {\n",
       "        vertical-align: middle;\n",
       "    }\n",
       "\n",
       "    .dataframe tbody tr th {\n",
       "        vertical-align: top;\n",
       "    }\n",
       "\n",
       "    .dataframe thead th {\n",
       "        text-align: right;\n",
       "    }\n",
       "</style>\n",
       "<table border=\"1\" class=\"dataframe\">\n",
       "  <thead>\n",
       "    <tr style=\"text-align: right;\">\n",
       "      <th></th>\n",
       "      <th>Mois</th>\n",
       "      <th>Qualite</th>\n",
       "      <th>Territoire</th>\n",
       "      <th>Production totale</th>\n",
       "      <th>Production nucleaire</th>\n",
       "      <th>Production thermique totale</th>\n",
       "      <th>Production thermique charbon</th>\n",
       "      <th>Production thermique fioul</th>\n",
       "      <th>Production thermique gaz</th>\n",
       "      <th>Production hydraulique</th>\n",
       "      <th>...</th>\n",
       "      <th>Production bioenergies</th>\n",
       "      <th>Consommation totale</th>\n",
       "      <th>Solde exportateur</th>\n",
       "      <th>Echanges export</th>\n",
       "      <th>Echanges import</th>\n",
       "      <th>Echanges avec le Royaume-Uni</th>\n",
       "      <th>Echanges avec l'Espagne</th>\n",
       "      <th>Echanges avec l'Italie</th>\n",
       "      <th>Echanges avec la Suisse</th>\n",
       "      <th>Echanges avec l'Allemagne et la Belgique</th>\n",
       "    </tr>\n",
       "  </thead>\n",
       "  <tbody>\n",
       "    <tr>\n",
       "      <th>0</th>\n",
       "      <td>2012-01</td>\n",
       "      <td>Donnees definitives</td>\n",
       "      <td>France</td>\n",
       "      <td>57177</td>\n",
       "      <td>42811.0</td>\n",
       "      <td>5399</td>\n",
       "      <td>741.0</td>\n",
       "      <td>691</td>\n",
       "      <td>3967</td>\n",
       "      <td>6741</td>\n",
       "      <td>...</td>\n",
       "      <td>514</td>\n",
       "      <td>51086</td>\n",
       "      <td>5371.0</td>\n",
       "      <td>7043.0</td>\n",
       "      <td>1672.0</td>\n",
       "      <td>929.0</td>\n",
       "      <td>724.0</td>\n",
       "      <td>1581.0</td>\n",
       "      <td>2195.0</td>\n",
       "      <td>-59.0</td>\n",
       "    </tr>\n",
       "    <tr>\n",
       "      <th>1</th>\n",
       "      <td>2012-02</td>\n",
       "      <td>Donnees definitives</td>\n",
       "      <td>France</td>\n",
       "      <td>54419</td>\n",
       "      <td>38661.0</td>\n",
       "      <td>8721</td>\n",
       "      <td>2511.0</td>\n",
       "      <td>1309</td>\n",
       "      <td>4901</td>\n",
       "      <td>5244</td>\n",
       "      <td>...</td>\n",
       "      <td>454</td>\n",
       "      <td>54476</td>\n",
       "      <td>-715.0</td>\n",
       "      <td>4504.0</td>\n",
       "      <td>5220.0</td>\n",
       "      <td>-798.0</td>\n",
       "      <td>-309.0</td>\n",
       "      <td>1244.0</td>\n",
       "      <td>1579.0</td>\n",
       "      <td>-2430.0</td>\n",
       "    </tr>\n",
       "    <tr>\n",
       "      <th>2</th>\n",
       "      <td>2012-03</td>\n",
       "      <td>Donnees definitives</td>\n",
       "      <td>France</td>\n",
       "      <td>48583</td>\n",
       "      <td>37549.0</td>\n",
       "      <td>5276</td>\n",
       "      <td>1435.0</td>\n",
       "      <td>666</td>\n",
       "      <td>3175</td>\n",
       "      <td>3894</td>\n",
       "      <td>...</td>\n",
       "      <td>531</td>\n",
       "      <td>43156</td>\n",
       "      <td>4888.0</td>\n",
       "      <td>7042.0</td>\n",
       "      <td>2153.0</td>\n",
       "      <td>583.0</td>\n",
       "      <td>330.0</td>\n",
       "      <td>1742.0</td>\n",
       "      <td>2235.0</td>\n",
       "      <td>-1.0</td>\n",
       "    </tr>\n",
       "  </tbody>\n",
       "</table>\n",
       "<p>3 rows × 22 columns</p>\n",
       "</div>"
      ],
      "text/plain": [
       "      Mois              Qualite Territoire  Production totale  \\\n",
       "0  2012-01  Donnees definitives     France              57177   \n",
       "1  2012-02  Donnees definitives     France              54419   \n",
       "2  2012-03  Donnees definitives     France              48583   \n",
       "\n",
       "   Production nucleaire  Production thermique totale  \\\n",
       "0               42811.0                         5399   \n",
       "1               38661.0                         8721   \n",
       "2               37549.0                         5276   \n",
       "\n",
       "   Production thermique charbon  Production thermique fioul  \\\n",
       "0                         741.0                         691   \n",
       "1                        2511.0                        1309   \n",
       "2                        1435.0                         666   \n",
       "\n",
       "   Production thermique gaz  Production hydraulique  ...  \\\n",
       "0                      3967                    6741  ...   \n",
       "1                      4901                    5244  ...   \n",
       "2                      3175                    3894  ...   \n",
       "\n",
       "   Production bioenergies  Consommation totale  Solde exportateur  \\\n",
       "0                     514                51086             5371.0   \n",
       "1                     454                54476             -715.0   \n",
       "2                     531                43156             4888.0   \n",
       "\n",
       "   Echanges export  Echanges import  Echanges avec le Royaume-Uni  \\\n",
       "0           7043.0           1672.0                         929.0   \n",
       "1           4504.0           5220.0                        -798.0   \n",
       "2           7042.0           2153.0                         583.0   \n",
       "\n",
       "   Echanges avec l'Espagne  Echanges avec l'Italie  Echanges avec la Suisse  \\\n",
       "0                    724.0                  1581.0                   2195.0   \n",
       "1                   -309.0                  1244.0                   1579.0   \n",
       "2                    330.0                  1742.0                   2235.0   \n",
       "\n",
       "   Echanges avec l'Allemagne et la Belgique  \n",
       "0                                     -59.0  \n",
       "1                                   -2430.0  \n",
       "2                                      -1.0  \n",
       "\n",
       "[3 rows x 22 columns]"
      ]
     },
     "execution_count": 19,
     "metadata": {},
     "output_type": "execute_result"
    }
   ],
   "source": [
    "DonneesMensuelles = pd.read_csv(\"eCO2mix_RTE_energie_M.csv\", sep='\\t')\n",
    "\n",
    "DonneesMensuelles.head(3)"
   ]
  },
  {
   "cell_type": "code",
   "execution_count": 16,
   "metadata": {},
   "outputs": [
    {
     "data": {
      "text/plain": [
       "Index(['Mois', 'Qualite', 'Territoire', 'Production totale',\n",
       "       'Production nucleaire', 'Production thermique totale',\n",
       "       'Production thermique charbon', 'Production thermique fioul',\n",
       "       'Production thermique gaz', 'Production hydraulique',\n",
       "       'Production eolien', 'Production solaire', 'Production bioenergies',\n",
       "       'Consommation totale', 'Solde exportateur', 'Echanges export',\n",
       "       'Echanges import', 'Echanges avec le Royaume-Uni',\n",
       "       'Echanges avec l'Espagne', 'Echanges avec l'Italie',\n",
       "       'Echanges avec la Suisse', 'Echanges avec l'Allemagne et la Belgique'],\n",
       "      dtype='object')"
      ]
     },
     "execution_count": 16,
     "metadata": {},
     "output_type": "execute_result"
    }
   ],
   "source": [
    "DonneesMensuelles.columns"
   ]
  },
  {
   "cell_type": "markdown",
   "metadata": {},
   "source": [
    "Le dataframe se compose de 22 colonnes :\n",
    "- Mois : indique le mois analysé\n",
    "- Qualite : trois types de données : temps réel, consolidées et définitives. Données temps réel disponibles 30 jours, puis remplacées par données consolidées. Données consolidées remplacées par donées définitives l'année suivante\n",
    "- Territoire : indique le territoire concerné. Choix entre la France et une des 12 régions administratives.\n",
    "- Production totale :  production totale d'électricité en MW\n",
    "- Production nucléaire/thermique totale/thermique charbon/thermique fioul/thermique gaz/hydraulique/eolien/solaire/bioenergies : indique la quantité de production d'électricité produite en MW selon la source de production \n",
    "- Consommation totale : consommation totale d'électricité en MW\n",
    "- Solde exportateur : somme des quantités d'électricité en MW importées et exportées\n",
    "- Echanges exports : quantité d'électricité en MW exportée\n",
    "- Echanges imports : quantité d'électricité en MW importée\n",
    "- Echanges avec R-U/Espagne/Italie/Suisse/Allemagne et Belgique : détails des échanges avec chaque pays indiqué"
   ]
  },
  {
   "cell_type": "markdown",
   "metadata": {},
   "source": [
    "Source des informations : https://assets.rte-france.com/prod/public/2020-07/%C3%A9CO2mix%20-%20Description%20des%20fichiers%20des%20donn%C3%A9es%20en%20puissance.pdf"
   ]
  },
  {
   "cell_type": "markdown",
   "metadata": {},
   "source": [
    "Les données de l'effet température proviennent du site https://cegibat.grdf.fr/simulateur/calcul-dju "
   ]
  },
  {
   "cell_type": "code",
   "execution_count": 39,
   "metadata": {},
   "outputs": [
    {
     "data": {
      "text/html": [
       "<div>\n",
       "<style scoped>\n",
       "    .dataframe tbody tr th:only-of-type {\n",
       "        vertical-align: middle;\n",
       "    }\n",
       "\n",
       "    .dataframe tbody tr th {\n",
       "        vertical-align: top;\n",
       "    }\n",
       "\n",
       "    .dataframe thead th {\n",
       "        text-align: right;\n",
       "    }\n",
       "</style>\n",
       "<table border=\"1\" class=\"dataframe\">\n",
       "  <thead>\n",
       "    <tr style=\"text-align: right;\">\n",
       "      <th></th>\n",
       "      <th>Unnamed: 0</th>\n",
       "      <th>JAN</th>\n",
       "      <th>FÉV</th>\n",
       "      <th>MAR</th>\n",
       "      <th>AVR</th>\n",
       "      <th>MAI</th>\n",
       "      <th>JUN</th>\n",
       "      <th>JUI</th>\n",
       "      <th>AOÛ</th>\n",
       "      <th>SEP</th>\n",
       "      <th>OCT</th>\n",
       "      <th>NOV</th>\n",
       "      <th>DÉC</th>\n",
       "      <th>TOTAL</th>\n",
       "    </tr>\n",
       "  </thead>\n",
       "  <tbody>\n",
       "    <tr>\n",
       "      <th>0</th>\n",
       "      <td>2010</td>\n",
       "      <td>624.8</td>\n",
       "      <td>474.7</td>\n",
       "      <td>414.9</td>\n",
       "      <td>292.7</td>\n",
       "      <td>260.6</td>\n",
       "      <td>112.6</td>\n",
       "      <td>46.5</td>\n",
       "      <td>93.8</td>\n",
       "      <td>163.6</td>\n",
       "      <td>286.4</td>\n",
       "      <td>419.3</td>\n",
       "      <td>644.1</td>\n",
       "      <td>3833.8</td>\n",
       "    </tr>\n",
       "    <tr>\n",
       "      <th>1</th>\n",
       "      <td>2011</td>\n",
       "      <td>507.2</td>\n",
       "      <td>408.6</td>\n",
       "      <td>368.7</td>\n",
       "      <td>202.0</td>\n",
       "      <td>165.6</td>\n",
       "      <td>117.2</td>\n",
       "      <td>122.5</td>\n",
       "      <td>84.7</td>\n",
       "      <td>101.9</td>\n",
       "      <td>232.3</td>\n",
       "      <td>338.0</td>\n",
       "      <td>424.8</td>\n",
       "      <td>3073.4</td>\n",
       "    </tr>\n",
       "    <tr>\n",
       "      <th>2</th>\n",
       "      <td>2012</td>\n",
       "      <td>454.5</td>\n",
       "      <td>555.6</td>\n",
       "      <td>334.9</td>\n",
       "      <td>344.4</td>\n",
       "      <td>192.8</td>\n",
       "      <td>133.3</td>\n",
       "      <td>95.3</td>\n",
       "      <td>59.6</td>\n",
       "      <td>165.5</td>\n",
       "      <td>262.1</td>\n",
       "      <td>403.3</td>\n",
       "      <td>455.7</td>\n",
       "      <td>3456.9</td>\n",
       "    </tr>\n",
       "    <tr>\n",
       "      <th>3</th>\n",
       "      <td>2013</td>\n",
       "      <td>548.2</td>\n",
       "      <td>519.7</td>\n",
       "      <td>505.5</td>\n",
       "      <td>326.3</td>\n",
       "      <td>277.4</td>\n",
       "      <td>146.0</td>\n",
       "      <td>51.3</td>\n",
       "      <td>79.0</td>\n",
       "      <td>141.8</td>\n",
       "      <td>209.3</td>\n",
       "      <td>417.7</td>\n",
       "      <td>456.5</td>\n",
       "      <td>3678.6</td>\n",
       "    </tr>\n",
       "    <tr>\n",
       "      <th>4</th>\n",
       "      <td>2014</td>\n",
       "      <td>434.4</td>\n",
       "      <td>376.9</td>\n",
       "      <td>346.9</td>\n",
       "      <td>255.1</td>\n",
       "      <td>219.7</td>\n",
       "      <td>124.4</td>\n",
       "      <td>76.3</td>\n",
       "      <td>104.9</td>\n",
       "      <td>111.9</td>\n",
       "      <td>194.5</td>\n",
       "      <td>326.6</td>\n",
       "      <td>489.2</td>\n",
       "      <td>3060.6</td>\n",
       "    </tr>\n",
       "    <tr>\n",
       "      <th>5</th>\n",
       "      <td>2015</td>\n",
       "      <td>507.0</td>\n",
       "      <td>472.3</td>\n",
       "      <td>400.2</td>\n",
       "      <td>269.9</td>\n",
       "      <td>210.1</td>\n",
       "      <td>109.2</td>\n",
       "      <td>62.7</td>\n",
       "      <td>61.0</td>\n",
       "      <td>184.6</td>\n",
       "      <td>293.5</td>\n",
       "      <td>301.0</td>\n",
       "      <td>349.1</td>\n",
       "      <td>3220.5</td>\n",
       "    </tr>\n",
       "    <tr>\n",
       "      <th>6</th>\n",
       "      <td>2016</td>\n",
       "      <td>477.6</td>\n",
       "      <td>428.8</td>\n",
       "      <td>445.1</td>\n",
       "      <td>333.6</td>\n",
       "      <td>207.6</td>\n",
       "      <td>117.4</td>\n",
       "      <td>66.3</td>\n",
       "      <td>61.3</td>\n",
       "      <td>85.7</td>\n",
       "      <td>290.2</td>\n",
       "      <td>400.3</td>\n",
       "      <td>511.6</td>\n",
       "      <td>3425.4</td>\n",
       "    </tr>\n",
       "    <tr>\n",
       "      <th>7</th>\n",
       "      <td>2017</td>\n",
       "      <td>592.6</td>\n",
       "      <td>382.6</td>\n",
       "      <td>318.9</td>\n",
       "      <td>315.3</td>\n",
       "      <td>168.7</td>\n",
       "      <td>72.8</td>\n",
       "      <td>59.2</td>\n",
       "      <td>74.7</td>\n",
       "      <td>158.1</td>\n",
       "      <td>206.1</td>\n",
       "      <td>392.9</td>\n",
       "      <td>483.4</td>\n",
       "      <td>3225.2</td>\n",
       "    </tr>\n",
       "    <tr>\n",
       "      <th>8</th>\n",
       "      <td>2018</td>\n",
       "      <td>417.9</td>\n",
       "      <td>537.6</td>\n",
       "      <td>426.6</td>\n",
       "      <td>224.3</td>\n",
       "      <td>163.0</td>\n",
       "      <td>0.0</td>\n",
       "      <td>0.0</td>\n",
       "      <td>0.0</td>\n",
       "      <td>0.0</td>\n",
       "      <td>0.0</td>\n",
       "      <td>0.0</td>\n",
       "      <td>0.0</td>\n",
       "      <td>NaN</td>\n",
       "    </tr>\n",
       "  </tbody>\n",
       "</table>\n",
       "</div>"
      ],
      "text/plain": [
       "   Unnamed: 0    JAN    FÉV    MAR    AVR    MAI    JUN    JUI    AOÛ    SEP  \\\n",
       "0        2010  624.8  474.7  414.9  292.7  260.6  112.6   46.5   93.8  163.6   \n",
       "1        2011  507.2  408.6  368.7  202.0  165.6  117.2  122.5   84.7  101.9   \n",
       "2        2012  454.5  555.6  334.9  344.4  192.8  133.3   95.3   59.6  165.5   \n",
       "3        2013  548.2  519.7  505.5  326.3  277.4  146.0   51.3   79.0  141.8   \n",
       "4        2014  434.4  376.9  346.9  255.1  219.7  124.4   76.3  104.9  111.9   \n",
       "5        2015  507.0  472.3  400.2  269.9  210.1  109.2   62.7   61.0  184.6   \n",
       "6        2016  477.6  428.8  445.1  333.6  207.6  117.4   66.3   61.3   85.7   \n",
       "7        2017  592.6  382.6  318.9  315.3  168.7   72.8   59.2   74.7  158.1   \n",
       "8        2018  417.9  537.6  426.6  224.3  163.0    0.0    0.0    0.0    0.0   \n",
       "\n",
       "     OCT    NOV    DÉC   TOTAL  \n",
       "0  286.4  419.3  644.1  3833.8  \n",
       "1  232.3  338.0  424.8  3073.4  \n",
       "2  262.1  403.3  455.7  3456.9  \n",
       "3  209.3  417.7  456.5  3678.6  \n",
       "4  194.5  326.6  489.2  3060.6  \n",
       "5  293.5  301.0  349.1  3220.5  \n",
       "6  290.2  400.3  511.6  3425.4  \n",
       "7  206.1  392.9  483.4  3225.2  \n",
       "8    0.0    0.0    0.0     NaN  "
      ]
     },
     "execution_count": 39,
     "metadata": {},
     "output_type": "execute_result"
    }
   ],
   "source": [
    "Dju_chauffage = pd.read_csv('dju_chauffage.csv')\n",
    "\n",
    "Dju_chauffage"
   ]
  },
  {
   "cell_type": "markdown",
   "metadata": {},
   "source": [
    "Le jeu de données 'Dju_chauffage' est composée de 14 colonnes et 9 lignes. 12 de ces colonnes indiquent le degré jour unifié pour chaque mois de l'année. la première colonne nous indique l'année concernée et la dernière le total annuel. Chaque ligne correspond à une année pour la période allant de 2010 à 2018.\n",
    "\n",
    "Le degré jour est une valeur représentative de l’écart entre la température d’une journée donnée et un seuil de température préétabli (18 °C dans le cas des DJU ou Degré Jour Unifié). Sommés sur une période, ils permettent de calculer les besoins de chauffage d’un bâtiment.\n",
    "    \n",
    "Source : https://cegibat.grdf.fr/simulateur/calcul-dju"
   ]
  },
  {
   "cell_type": "markdown",
   "metadata": {},
   "source": [
    "<a id=\"chapitre_1\"></a>\n",
    "## <span style=\"color: #030aa4\">1. Correction des données de consommation mensuelles de l'effet température (dues au chauffage électrique) en utilisant une régression linéaire</span>"
   ]
  },
  {
   "cell_type": "code",
   "execution_count": 69,
   "metadata": {},
   "outputs": [
    {
     "data": {
      "text/html": [
       "<div>\n",
       "<style scoped>\n",
       "    .dataframe tbody tr th:only-of-type {\n",
       "        vertical-align: middle;\n",
       "    }\n",
       "\n",
       "    .dataframe tbody tr th {\n",
       "        vertical-align: top;\n",
       "    }\n",
       "\n",
       "    .dataframe thead th {\n",
       "        text-align: right;\n",
       "    }\n",
       "</style>\n",
       "<table border=\"1\" class=\"dataframe\">\n",
       "  <thead>\n",
       "    <tr style=\"text-align: right;\">\n",
       "      <th></th>\n",
       "      <th>Mois</th>\n",
       "      <th>consommation_totale_France</th>\n",
       "      <th>DJU</th>\n",
       "    </tr>\n",
       "  </thead>\n",
       "  <tbody>\n",
       "    <tr>\n",
       "      <th>0</th>\n",
       "      <td>2012-01-01</td>\n",
       "      <td>51086</td>\n",
       "      <td>454.5</td>\n",
       "    </tr>\n",
       "    <tr>\n",
       "      <th>1</th>\n",
       "      <td>2012-02-01</td>\n",
       "      <td>54476</td>\n",
       "      <td>555.6</td>\n",
       "    </tr>\n",
       "    <tr>\n",
       "      <th>2</th>\n",
       "      <td>2012-03-01</td>\n",
       "      <td>43156</td>\n",
       "      <td>334.9</td>\n",
       "    </tr>\n",
       "    <tr>\n",
       "      <th>3</th>\n",
       "      <td>2012-04-01</td>\n",
       "      <td>40176</td>\n",
       "      <td>344.4</td>\n",
       "    </tr>\n",
       "    <tr>\n",
       "      <th>4</th>\n",
       "      <td>2012-05-01</td>\n",
       "      <td>35257</td>\n",
       "      <td>192.8</td>\n",
       "    </tr>\n",
       "    <tr>\n",
       "      <th>...</th>\n",
       "      <td>...</td>\n",
       "      <td>...</td>\n",
       "      <td>...</td>\n",
       "    </tr>\n",
       "    <tr>\n",
       "      <th>79</th>\n",
       "      <td>2018-08-01</td>\n",
       "      <td>32451</td>\n",
       "      <td>0.0</td>\n",
       "    </tr>\n",
       "    <tr>\n",
       "      <th>80</th>\n",
       "      <td>2018-09-01</td>\n",
       "      <td>32683</td>\n",
       "      <td>0.0</td>\n",
       "    </tr>\n",
       "    <tr>\n",
       "      <th>81</th>\n",
       "      <td>2018-10-01</td>\n",
       "      <td>37102</td>\n",
       "      <td>0.0</td>\n",
       "    </tr>\n",
       "    <tr>\n",
       "      <th>82</th>\n",
       "      <td>2018-11-01</td>\n",
       "      <td>43738</td>\n",
       "      <td>0.0</td>\n",
       "    </tr>\n",
       "    <tr>\n",
       "      <th>83</th>\n",
       "      <td>2018-12-01</td>\n",
       "      <td>47553</td>\n",
       "      <td>0.0</td>\n",
       "    </tr>\n",
       "  </tbody>\n",
       "</table>\n",
       "<p>84 rows × 3 columns</p>\n",
       "</div>"
      ],
      "text/plain": [
       "         Mois  consommation_totale_France    DJU\n",
       "0  2012-01-01                       51086  454.5\n",
       "1  2012-02-01                       54476  555.6\n",
       "2  2012-03-01                       43156  334.9\n",
       "3  2012-04-01                       40176  344.4\n",
       "4  2012-05-01                       35257  192.8\n",
       "..        ...                         ...    ...\n",
       "79 2018-08-01                       32451    0.0\n",
       "80 2018-09-01                       32683    0.0\n",
       "81 2018-10-01                       37102    0.0\n",
       "82 2018-11-01                       43738    0.0\n",
       "83 2018-12-01                       47553    0.0\n",
       "\n",
       "[84 rows x 3 columns]"
      ]
     },
     "execution_count": 69,
     "metadata": {},
     "output_type": "execute_result"
    }
   ],
   "source": [
    "data = DonneesMensuelles.loc[:,('Mois','Territoire','Consommation totale')]\n",
    "data = data[data.Territoire=='France']\n",
    "data = data.rename(columns={'Consommation totale':'consommation_totale_France'})\\\n",
    "           .drop(columns='Territoire')\n",
    "\n",
    "data['Mois'] = pd.to_datetime(data['Mois'], infer_datetime_format=True)\n",
    "\n",
    "data_chauffage = Dju_chauffage[Dju_chauffage['Unnamed: 0']!=2010]\n",
    "data_chauffage = data_chauffage[data_chauffage['Unnamed: 0']!=2011]\n",
    "data_chauffage = data_chauffage.drop(columns='TOTAL')\\\n",
    "                               .rename(columns={'JAN':'01','FÉV':'02','MAR':'03','AVR':'04','MAI':'05','JUN':'06','JUI':'07','AOÛ':'08','SEP':'09','OCT':'10','NOV':'11','DÉC':'12'})\\\n",
    "                               .melt('Unnamed: 0', var_name= 'Année', value_name='DJU')\\\n",
    "                               .rename(columns={'Unnamed: 0':'year','Année':'month'})\n",
    "\n",
    "data_chauffage['Mois'] = pd.to_datetime(data_chauffage[['year', 'month']].assign(DAY=1))\n",
    "\n",
    "data_chauffage = data_chauffage.drop(columns=['year','month'])\n",
    "\n",
    "data = pd.merge(data,data_chauffage)\n",
    "\n",
    "data"
   ]
  },
  {
   "cell_type": "code",
   "execution_count": 67,
   "metadata": {},
   "outputs": [
    {
     "data": {
      "text/plain": [
       "<matplotlib.axes._subplots.AxesSubplot at 0x7f82461f3850>"
      ]
     },
     "execution_count": 67,
     "metadata": {},
     "output_type": "execute_result"
    },
    {
     "data": {
      "image/png": "[encoded data removed]",
      "text/plain": [
       "<Figure size 1008x288 with 1 Axes>"
      ]
     },
     "metadata": {
      "needs_background": "light"
     },
     "output_type": "display_data"
    }
   ],
   "source": [
    "data.plot(x='Mois',y=\"consommation_totale_France\", figsize=(14,4))"
   ]
  },
  {
   "cell_type": "code",
   "execution_count": 68,
   "metadata": {},
   "outputs": [
    {
     "data": {
      "text/plain": [
       "<matplotlib.axes._subplots.AxesSubplot at 0x7f824384ad10>"
      ]
     },
     "execution_count": 68,
     "metadata": {},
     "output_type": "execute_result"
    },
    {
     "data": {
      "image/png": "[encoded data removed]",
      "text/plain": [
       "<Figure size 1008x288 with 1 Axes>"
      ]
     },
     "metadata": {
      "needs_background": "light"
     },
     "output_type": "display_data"
    }
   ],
   "source": [
    "data.plot(x='Mois',y=\"DJU\", figsize=(14,4))"
   ]
  },
  {
   "cell_type": "code",
   "execution_count": 73,
   "metadata": {},
   "outputs": [
    {
     "data": {
      "text/plain": [
       "array([[454.5, 555.6, 334.9, 344.4, 192.8, 133.3,  95.3,  59.6, 165.5,\n",
       "        262.1, 403.3, 455.7],\n",
       "       [548.2, 519.7, 505.5, 326.3, 277.4, 146. ,  51.3,  79. , 141.8,\n",
       "        209.3, 417.7, 456.5],\n",
       "       [434.4, 376.9, 346.9, 255.1, 219.7, 124.4,  76.3, 104.9, 111.9,\n",
       "        194.5, 326.6, 489.2],\n",
       "       [507. , 472.3, 400.2, 269.9, 210.1, 109.2,  62.7,  61. , 184.6,\n",
       "        293.5, 301. , 349.1],\n",
       "       [477.6, 428.8, 445.1, 333.6, 207.6, 117.4,  66.3,  61.3,  85.7,\n",
       "        290.2, 400.3, 511.6],\n",
       "       [592.6, 382.6, 318.9, 315.3, 168.7,  72.8,  59.2,  74.7, 158.1,\n",
       "        206.1, 392.9, 483.4],\n",
       "       [417.9, 537.6, 426.6, 224.3, 163. ,   0. ,   0. ,   0. ,   0. ,\n",
       "          0. ,   0. ,   0. ]])"
      ]
     },
     "execution_count": 73,
     "metadata": {},
     "output_type": "execute_result"
    }
   ],
   "source": [
    "DjuArray = Dju_chauffage[Dju_chauffage['Unnamed: 0']!=2010]\n",
    "DjuArray = DjuArray[DjuArray['Unnamed: 0']!=2011]\n",
    "DjuArray = DjuArray.drop(columns=['Unnamed: 0','TOTAL'])\n",
    "DjuArray = DjuArray.values\n",
    "\n",
    "DjuArray"
   ]
  },
  {
   "cell_type": "code",
   "execution_count": 74,
   "metadata": {},
   "outputs": [
    {
     "data": {
      "text/html": [
       "<div>\n",
       "<style scoped>\n",
       "    .dataframe tbody tr th:only-of-type {\n",
       "        vertical-align: middle;\n",
       "    }\n",
       "\n",
       "    .dataframe tbody tr th {\n",
       "        vertical-align: top;\n",
       "    }\n",
       "\n",
       "    .dataframe thead th {\n",
       "        text-align: right;\n",
       "    }\n",
       "</style>\n",
       "<table border=\"1\" class=\"dataframe\">\n",
       "  <thead>\n",
       "    <tr style=\"text-align: right;\">\n",
       "      <th></th>\n",
       "      <th>Mois</th>\n",
       "      <th>consommation_totale_France</th>\n",
       "    </tr>\n",
       "  </thead>\n",
       "  <tbody>\n",
       "    <tr>\n",
       "      <th>0</th>\n",
       "      <td>2012-01-01</td>\n",
       "      <td>51086</td>\n",
       "    </tr>\n",
       "    <tr>\n",
       "      <th>1</th>\n",
       "      <td>2012-02-01</td>\n",
       "      <td>54476</td>\n",
       "    </tr>\n",
       "    <tr>\n",
       "      <th>2</th>\n",
       "      <td>2012-03-01</td>\n",
       "      <td>43156</td>\n",
       "    </tr>\n",
       "    <tr>\n",
       "      <th>3</th>\n",
       "      <td>2012-04-01</td>\n",
       "      <td>40176</td>\n",
       "    </tr>\n",
       "    <tr>\n",
       "      <th>4</th>\n",
       "      <td>2012-05-01</td>\n",
       "      <td>35257</td>\n",
       "    </tr>\n",
       "    <tr>\n",
       "      <th>...</th>\n",
       "      <td>...</td>\n",
       "      <td>...</td>\n",
       "    </tr>\n",
       "    <tr>\n",
       "      <th>79</th>\n",
       "      <td>2018-08-01</td>\n",
       "      <td>32451</td>\n",
       "    </tr>\n",
       "    <tr>\n",
       "      <th>80</th>\n",
       "      <td>2018-09-01</td>\n",
       "      <td>32683</td>\n",
       "    </tr>\n",
       "    <tr>\n",
       "      <th>81</th>\n",
       "      <td>2018-10-01</td>\n",
       "      <td>37102</td>\n",
       "    </tr>\n",
       "    <tr>\n",
       "      <th>82</th>\n",
       "      <td>2018-11-01</td>\n",
       "      <td>43738</td>\n",
       "    </tr>\n",
       "    <tr>\n",
       "      <th>83</th>\n",
       "      <td>2018-12-01</td>\n",
       "      <td>47553</td>\n",
       "    </tr>\n",
       "  </tbody>\n",
       "</table>\n",
       "<p>84 rows × 2 columns</p>\n",
       "</div>"
      ],
      "text/plain": [
       "         Mois  consommation_totale_France\n",
       "0  2012-01-01                       51086\n",
       "1  2012-02-01                       54476\n",
       "2  2012-03-01                       43156\n",
       "3  2012-04-01                       40176\n",
       "4  2012-05-01                       35257\n",
       "..        ...                         ...\n",
       "79 2018-08-01                       32451\n",
       "80 2018-09-01                       32683\n",
       "81 2018-10-01                       37102\n",
       "82 2018-11-01                       43738\n",
       "83 2018-12-01                       47553\n",
       "\n",
       "[84 rows x 2 columns]"
      ]
     },
     "execution_count": 74,
     "metadata": {},
     "output_type": "execute_result"
    }
   ],
   "source": [
    "data =data.drop(columns='DJU')\n",
    "\n",
    "data"
   ]
  },
  {
   "cell_type": "code",
   "execution_count": 75,
   "metadata": {},
   "outputs": [
    {
     "ename": "TypeError",
     "evalue": "invalid type promotion",
     "output_type": "error",
     "traceback": [
      "\u001b[0;31m---------------------------------------------------------------------------\u001b[0m",
      "\u001b[0;31mTypeError\u001b[0m                                 Traceback (most recent call last)",
      "\u001b[0;32m<ipython-input-75-8ba4db287ebb>\u001b[0m in \u001b[0;36m<module>\u001b[0;34m\u001b[0m\n\u001b[1;32m      2\u001b[0m \u001b[0;34m\u001b[0m\u001b[0m\n\u001b[1;32m      3\u001b[0m \u001b[0mreg\u001b[0m \u001b[0;34m=\u001b[0m \u001b[0mlinear_model\u001b[0m\u001b[0;34m.\u001b[0m\u001b[0mLinearRegression\u001b[0m\u001b[0;34m(\u001b[0m\u001b[0mfit_intercept\u001b[0m\u001b[0;34m=\u001b[0m\u001b[0;32mFalse\u001b[0m\u001b[0;34m)\u001b[0m\u001b[0;34m\u001b[0m\u001b[0;34m\u001b[0m\u001b[0m\n\u001b[0;32m----> 4\u001b[0;31m \u001b[0mreg\u001b[0m\u001b[0;34m.\u001b[0m\u001b[0mfit\u001b[0m\u001b[0;34m(\u001b[0m\u001b[0mDjuArray\u001b[0m\u001b[0;34m.\u001b[0m\u001b[0mtranspose\u001b[0m\u001b[0;34m(\u001b[0m\u001b[0;34m)\u001b[0m\u001b[0;34m,\u001b[0m \u001b[0mdata\u001b[0m\u001b[0;34m)\u001b[0m\u001b[0;34m\u001b[0m\u001b[0;34m\u001b[0m\u001b[0m\n\u001b[0m",
      "\u001b[0;32m/opt/anaconda3/lib/python3.7/site-packages/sklearn/linear_model/_base.py\u001b[0m in \u001b[0;36mfit\u001b[0;34m(self, X, y, sample_weight)\u001b[0m\n\u001b[1;32m    490\u001b[0m         \u001b[0mn_jobs_\u001b[0m \u001b[0;34m=\u001b[0m \u001b[0mself\u001b[0m\u001b[0;34m.\u001b[0m\u001b[0mn_jobs\u001b[0m\u001b[0;34m\u001b[0m\u001b[0;34m\u001b[0m\u001b[0m\n\u001b[1;32m    491\u001b[0m         X, y = check_X_y(X, y, accept_sparse=['csr', 'csc', 'coo'],\n\u001b[0;32m--> 492\u001b[0;31m                          y_numeric=True, multi_output=True)\n\u001b[0m\u001b[1;32m    493\u001b[0m \u001b[0;34m\u001b[0m\u001b[0m\n\u001b[1;32m    494\u001b[0m         \u001b[0;32mif\u001b[0m \u001b[0msample_weight\u001b[0m \u001b[0;32mis\u001b[0m \u001b[0;32mnot\u001b[0m \u001b[0;32mNone\u001b[0m\u001b[0;34m:\u001b[0m\u001b[0;34m\u001b[0m\u001b[0;34m\u001b[0m\u001b[0m\n",
      "\u001b[0;32m/opt/anaconda3/lib/python3.7/site-packages/sklearn/utils/validation.py\u001b[0m in \u001b[0;36mcheck_X_y\u001b[0;34m(X, y, accept_sparse, accept_large_sparse, dtype, order, copy, force_all_finite, ensure_2d, allow_nd, multi_output, ensure_min_samples, ensure_min_features, y_numeric, warn_on_dtype, estimator)\u001b[0m\n\u001b[1;32m    756\u001b[0m     \u001b[0;32mif\u001b[0m \u001b[0mmulti_output\u001b[0m\u001b[0;34m:\u001b[0m\u001b[0;34m\u001b[0m\u001b[0;34m\u001b[0m\u001b[0m\n\u001b[1;32m    757\u001b[0m         y = check_array(y, 'csr', force_all_finite=True, ensure_2d=False,\n\u001b[0;32m--> 758\u001b[0;31m                         dtype=None)\n\u001b[0m\u001b[1;32m    759\u001b[0m     \u001b[0;32melse\u001b[0m\u001b[0;34m:\u001b[0m\u001b[0;34m\u001b[0m\u001b[0;34m\u001b[0m\u001b[0m\n\u001b[1;32m    760\u001b[0m         \u001b[0my\u001b[0m \u001b[0;34m=\u001b[0m \u001b[0mcolumn_or_1d\u001b[0m\u001b[0;34m(\u001b[0m\u001b[0my\u001b[0m\u001b[0;34m,\u001b[0m \u001b[0mwarn\u001b[0m\u001b[0;34m=\u001b[0m\u001b[0;32mTrue\u001b[0m\u001b[0;34m)\u001b[0m\u001b[0;34m\u001b[0m\u001b[0;34m\u001b[0m\u001b[0m\n",
      "\u001b[0;32m/opt/anaconda3/lib/python3.7/site-packages/sklearn/utils/validation.py\u001b[0m in \u001b[0;36mcheck_array\u001b[0;34m(array, accept_sparse, accept_large_sparse, dtype, order, copy, force_all_finite, ensure_2d, allow_nd, ensure_min_samples, ensure_min_features, warn_on_dtype, estimator)\u001b[0m\n\u001b[1;32m    473\u001b[0m \u001b[0;34m\u001b[0m\u001b[0m\n\u001b[1;32m    474\u001b[0m         \u001b[0;32mif\u001b[0m \u001b[0mall\u001b[0m\u001b[0;34m(\u001b[0m\u001b[0misinstance\u001b[0m\u001b[0;34m(\u001b[0m\u001b[0mdtype\u001b[0m\u001b[0;34m,\u001b[0m \u001b[0mnp\u001b[0m\u001b[0;34m.\u001b[0m\u001b[0mdtype\u001b[0m\u001b[0;34m)\u001b[0m \u001b[0;32mfor\u001b[0m \u001b[0mdtype\u001b[0m \u001b[0;32min\u001b[0m \u001b[0mdtypes_orig\u001b[0m\u001b[0;34m)\u001b[0m\u001b[0;34m:\u001b[0m\u001b[0;34m\u001b[0m\u001b[0;34m\u001b[0m\u001b[0m\n\u001b[0;32m--> 475\u001b[0;31m             \u001b[0mdtype_orig\u001b[0m \u001b[0;34m=\u001b[0m \u001b[0mnp\u001b[0m\u001b[0;34m.\u001b[0m\u001b[0mresult_type\u001b[0m\u001b[0;34m(\u001b[0m\u001b[0;34m*\u001b[0m\u001b[0mdtypes_orig\u001b[0m\u001b[0;34m)\u001b[0m\u001b[0;34m\u001b[0m\u001b[0;34m\u001b[0m\u001b[0m\n\u001b[0m\u001b[1;32m    476\u001b[0m \u001b[0;34m\u001b[0m\u001b[0m\n\u001b[1;32m    477\u001b[0m     \u001b[0;32mif\u001b[0m \u001b[0mdtype_numeric\u001b[0m\u001b[0;34m:\u001b[0m\u001b[0;34m\u001b[0m\u001b[0;34m\u001b[0m\u001b[0m\n",
      "\u001b[0;32m<__array_function__ internals>\u001b[0m in \u001b[0;36mresult_type\u001b[0;34m(*args, **kwargs)\u001b[0m\n",
      "\u001b[0;31mTypeError\u001b[0m: invalid type promotion"
     ]
    }
   ],
   "source": [
    "from sklearn import linear_model\n",
    "\n",
    "reg = linear_model.LinearRegression(fit_intercept=False)\n",
    "reg.fit(DjuArray.transpose(), data)"
   ]
  },
  {
   "cell_type": "code",
   "execution_count": null,
   "metadata": {},
   "outputs": [],
   "source": []
  },
  {
   "cell_type": "code",
   "execution_count": null,
   "metadata": {},
   "outputs": [],
   "source": []
  },
  {
   "cell_type": "code",
   "execution_count": null,
   "metadata": {},
   "outputs": [],
   "source": []
  },
  {
   "cell_type": "code",
   "execution_count": null,
   "metadata": {},
   "outputs": [],
   "source": []
  },
  {
   "cell_type": "code",
   "execution_count": null,
   "metadata": {},
   "outputs": [],
   "source": []
  },
  {
   "cell_type": "markdown",
   "metadata": {},
   "source": [
    "<a id=\"chapitre_2\"></a>\n",
    "## <span style=\"color: #030aa4\">2. Désaisonnalisation de la consommation obtenue après correction, grâce aux moyennes mobiles</span>"
   ]
  },
  {
   "cell_type": "code",
   "execution_count": null,
   "metadata": {},
   "outputs": [],
   "source": []
  },
  {
   "cell_type": "markdown",
   "metadata": {},
   "source": [
    "<a id=\"chapitre_3\"></a>\n",
    "## <span style=\"color: #030aa4\">3. Prévision de la consommation (corrigée de l'effet température) sur un an, en utilisant la méthode de Holt Winters (lissage exponentiel) puis la méthode SARIMA sur la série temportelle</span>"
   ]
  },
  {
   "cell_type": "code",
   "execution_count": null,
   "metadata": {},
   "outputs": [],
   "source": []
  }
 ],
 "metadata": {
  "kernelspec": {
   "display_name": "Python 3",
   "language": "python",
   "name": "python3"
  },
  "language_info": {
   "codemirror_mode": {
    "name": "ipython",
    "version": 3
   },
   "file_extension": ".py",
   "mimetype": "text/x-python",
   "name": "python",
   "nbconvert_exporter": "python",
   "pygments_lexer": "ipython3",
   "version": "3.7.6"
  }
 },
 "nbformat": 4,
 "nbformat_minor": 4
}
