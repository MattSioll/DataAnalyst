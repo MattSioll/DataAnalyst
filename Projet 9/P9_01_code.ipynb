{
 "cells": [
  {
   "cell_type": "markdown",
   "metadata": {},
   "source": [
    "## Table des matières"
   ]
  },
  {
   "cell_type": "markdown",
   "metadata": {},
   "source": [
    "- [Présentation des données](#Intro)\n",
    "- [1. Correction des données de consommation mensuelles de l'effet température (dues au chauffage électrique) en utilisant une régression linéaire](#chapitre_1)\n",
    "- [2. Désaisonnalisation de la consommation obtenue après correction, grâce aux moyennes mobiles](#chapitre_2)\n",
    "- [3. Prévision de la consommation (corrigée de l'effet température) sur un an, en utilisant la méthode de Holt Winters (lissage exponentiel) puis la méthode SARIMA sur la série temportelle](#chapitre_3)"
   ]
  },
  {
   "cell_type": "code",
   "execution_count": 1,
   "metadata": {},
   "outputs": [],
   "source": [
    "import numpy as np\n",
    "import pandas as pd"
   ]
  },
  {
   "cell_type": "markdown",
   "metadata": {},
   "source": [
    "<a id=\"Intro\"></a>\n",
    "## <span style=\"color: #030aa4\">Présentation des données</span>"
   ]
  },
  {
   "cell_type": "markdown",
   "metadata": {},
   "source": [
    "Les données mensuelles de consommation d'électricité en énergie proviennent du site https://www.rte-france.com/eco2mix/telecharger-les-indicateurs"
   ]
  },
  {
   "cell_type": "code",
   "execution_count": 19,
   "metadata": {},
   "outputs": [
    {
     "data": {
      "text/html": [
       "<div>\n",
       "<style scoped>\n",
       "    .dataframe tbody tr th:only-of-type {\n",
       "        vertical-align: middle;\n",
       "    }\n",
       "\n",
       "    .dataframe tbody tr th {\n",
       "        vertical-align: top;\n",
       "    }\n",
       "\n",
       "    .dataframe thead th {\n",
       "        text-align: right;\n",
       "    }\n",
       "</style>\n",
       "<table border=\"1\" class=\"dataframe\">\n",
       "  <thead>\n",
       "    <tr style=\"text-align: right;\">\n",
       "      <th></th>\n",
       "      <th>Mois</th>\n",
       "      <th>Qualite</th>\n",
       "      <th>Territoire</th>\n",
       "      <th>Production totale</th>\n",
       "      <th>Production nucleaire</th>\n",
       "      <th>Production thermique totale</th>\n",
       "      <th>Production thermique charbon</th>\n",
       "      <th>Production thermique fioul</th>\n",
       "      <th>Production thermique gaz</th>\n",
       "      <th>Production hydraulique</th>\n",
       "      <th>...</th>\n",
       "      <th>Production bioenergies</th>\n",
       "      <th>Consommation totale</th>\n",
       "      <th>Solde exportateur</th>\n",
       "      <th>Echanges export</th>\n",
       "      <th>Echanges import</th>\n",
       "      <th>Echanges avec le Royaume-Uni</th>\n",
       "      <th>Echanges avec l'Espagne</th>\n",
       "      <th>Echanges avec l'Italie</th>\n",
       "      <th>Echanges avec la Suisse</th>\n",
       "      <th>Echanges avec l'Allemagne et la Belgique</th>\n",
       "    </tr>\n",
       "  </thead>\n",
       "  <tbody>\n",
       "    <tr>\n",
       "      <th>0</th>\n",
       "      <td>2012-01</td>\n",
       "      <td>Donnees definitives</td>\n",
       "      <td>France</td>\n",
       "      <td>57177</td>\n",
       "      <td>42811.0</td>\n",
       "      <td>5399</td>\n",
       "      <td>741.0</td>\n",
       "      <td>691</td>\n",
       "      <td>3967</td>\n",
       "      <td>6741</td>\n",
       "      <td>...</td>\n",
       "      <td>514</td>\n",
       "      <td>51086</td>\n",
       "      <td>5371.0</td>\n",
       "      <td>7043.0</td>\n",
       "      <td>1672.0</td>\n",
       "      <td>929.0</td>\n",
       "      <td>724.0</td>\n",
       "      <td>1581.0</td>\n",
       "      <td>2195.0</td>\n",
       "      <td>-59.0</td>\n",
       "    </tr>\n",
       "    <tr>\n",
       "      <th>1</th>\n",
       "      <td>2012-02</td>\n",
       "      <td>Donnees definitives</td>\n",
       "      <td>France</td>\n",
       "      <td>54419</td>\n",
       "      <td>38661.0</td>\n",
       "      <td>8721</td>\n",
       "      <td>2511.0</td>\n",
       "      <td>1309</td>\n",
       "      <td>4901</td>\n",
       "      <td>5244</td>\n",
       "      <td>...</td>\n",
       "      <td>454</td>\n",
       "      <td>54476</td>\n",
       "      <td>-715.0</td>\n",
       "      <td>4504.0</td>\n",
       "      <td>5220.0</td>\n",
       "      <td>-798.0</td>\n",
       "      <td>-309.0</td>\n",
       "      <td>1244.0</td>\n",
       "      <td>1579.0</td>\n",
       "      <td>-2430.0</td>\n",
       "    </tr>\n",
       "    <tr>\n",
       "      <th>2</th>\n",
       "      <td>2012-03</td>\n",
       "      <td>Donnees definitives</td>\n",
       "      <td>France</td>\n",
       "      <td>48583</td>\n",
       "      <td>37549.0</td>\n",
       "      <td>5276</td>\n",
       "      <td>1435.0</td>\n",
       "      <td>666</td>\n",
       "      <td>3175</td>\n",
       "      <td>3894</td>\n",
       "      <td>...</td>\n",
       "      <td>531</td>\n",
       "      <td>43156</td>\n",
       "      <td>4888.0</td>\n",
       "      <td>7042.0</td>\n",
       "      <td>2153.0</td>\n",
       "      <td>583.0</td>\n",
       "      <td>330.0</td>\n",
       "      <td>1742.0</td>\n",
       "      <td>2235.0</td>\n",
       "      <td>-1.0</td>\n",
       "    </tr>\n",
       "  </tbody>\n",
       "</table>\n",
       "<p>3 rows × 22 columns</p>\n",
       "</div>"
      ],
      "text/plain": [
       "      Mois              Qualite Territoire  Production totale  \\\n",
       "0  2012-01  Donnees definitives     France              57177   \n",
       "1  2012-02  Donnees definitives     France              54419   \n",
       "2  2012-03  Donnees definitives     France              48583   \n",
       "\n",
       "   Production nucleaire  Production thermique totale  \\\n",
       "0               42811.0                         5399   \n",
       "1               38661.0                         8721   \n",
       "2               37549.0                         5276   \n",
       "\n",
       "   Production thermique charbon  Production thermique fioul  \\\n",
       "0                         741.0                         691   \n",
       "1                        2511.0                        1309   \n",
       "2                        1435.0                         666   \n",
       "\n",
       "   Production thermique gaz  Production hydraulique  ...  \\\n",
       "0                      3967                    6741  ...   \n",
       "1                      4901                    5244  ...   \n",
       "2                      3175                    3894  ...   \n",
       "\n",
       "   Production bioenergies  Consommation totale  Solde exportateur  \\\n",
       "0                     514                51086             5371.0   \n",
       "1                     454                54476             -715.0   \n",
       "2                     531                43156             4888.0   \n",
       "\n",
       "   Echanges export  Echanges import  Echanges avec le Royaume-Uni  \\\n",
       "0           7043.0           1672.0                         929.0   \n",
       "1           4504.0           5220.0                        -798.0   \n",
       "2           7042.0           2153.0                         583.0   \n",
       "\n",
       "   Echanges avec l'Espagne  Echanges avec l'Italie  Echanges avec la Suisse  \\\n",
       "0                    724.0                  1581.0                   2195.0   \n",
       "1                   -309.0                  1244.0                   1579.0   \n",
       "2                    330.0                  1742.0                   2235.0   \n",
       "\n",
       "   Echanges avec l'Allemagne et la Belgique  \n",
       "0                                     -59.0  \n",
       "1                                   -2430.0  \n",
       "2                                      -1.0  \n",
       "\n",
       "[3 rows x 22 columns]"
      ]
     },
     "execution_count": 19,
     "metadata": {},
     "output_type": "execute_result"
    }
   ],
   "source": [
    "DonneesMensuelles = pd.read_csv(\"eCO2mix_RTE_energie_M.csv\", sep='\\t')\n",
    "\n",
    "DonneesMensuelles.head(3)"
   ]
  },
  {
   "cell_type": "code",
   "execution_count": 16,
   "metadata": {},
   "outputs": [
    {
     "data": {
      "text/plain": [
       "Index(['Mois', 'Qualite', 'Territoire', 'Production totale',\n",
       "       'Production nucleaire', 'Production thermique totale',\n",
       "       'Production thermique charbon', 'Production thermique fioul',\n",
       "       'Production thermique gaz', 'Production hydraulique',\n",
       "       'Production eolien', 'Production solaire', 'Production bioenergies',\n",
       "       'Consommation totale', 'Solde exportateur', 'Echanges export',\n",
       "       'Echanges import', 'Echanges avec le Royaume-Uni',\n",
       "       'Echanges avec l'Espagne', 'Echanges avec l'Italie',\n",
       "       'Echanges avec la Suisse', 'Echanges avec l'Allemagne et la Belgique'],\n",
       "      dtype='object')"
      ]
     },
     "execution_count": 16,
     "metadata": {},
     "output_type": "execute_result"
    }
   ],
   "source": [
    "DonneesMensuelles.columns"
   ]
  },
  {
   "cell_type": "markdown",
   "metadata": {},
   "source": [
    "Le dataframe se compose de 22 colonnes :\n",
    "- Mois : indique le mois analysé\n",
    "- Qualite : trois types de données : temps réel, consolidées et définitives. Données temps réel disponibles 30 jours, puis remplacées par données consolidées. Données consolidées remplacées par donées définitives l'année suivante\n",
    "- Territoire : indique le territoire concerné. Choix entre la France et une des 12 régions administratives.\n",
    "- Production totale :  production totale d'électricité en MW\n",
    "- Production nucléaire/thermique totale/thermique charbon/thermique fioul/thermique gaz/hydraulique/eolien/solaire/bioenergies : indique la quantité de production d'électricité produite en MW selon la source de production \n",
    "- Consommation totale : consommation totale d'électricité en MW\n",
    "- Solde exportateur : somme des quantités d'électricité en MW importées et exportées\n",
    "- Echanges exports : quantité d'électricité en MW exportée\n",
    "- Echanges imports : quantité d'électricité en MW importée\n",
    "- Echanges avec R-U/Espagne/Italie/Suisse/Allemagne et Belgique : détails des échanges avec chaque pays indiqué"
   ]
  },
  {
   "cell_type": "markdown",
   "metadata": {},
   "source": [
    "Source des informations : https://assets.rte-france.com/prod/public/2020-07/%C3%A9CO2mix%20-%20Description%20des%20fichiers%20des%20donn%C3%A9es%20en%20puissance.pdf"
   ]
  },
  {
   "cell_type": "markdown",
   "metadata": {},
   "source": [
    "Les données de l'effet température proviennent du site https://cegibat.grdf.fr/simulateur/calcul-dju "
   ]
  },
  {
   "cell_type": "code",
   "execution_count": 24,
   "metadata": {},
   "outputs": [
    {
     "data": {
      "text/html": [
       "<div>\n",
       "<style scoped>\n",
       "    .dataframe tbody tr th:only-of-type {\n",
       "        vertical-align: middle;\n",
       "    }\n",
       "\n",
       "    .dataframe tbody tr th {\n",
       "        vertical-align: top;\n",
       "    }\n",
       "\n",
       "    .dataframe thead th {\n",
       "        text-align: right;\n",
       "    }\n",
       "</style>\n",
       "<table border=\"1\" class=\"dataframe\">\n",
       "  <thead>\n",
       "    <tr style=\"text-align: right;\">\n",
       "      <th></th>\n",
       "      <th>Unnamed: 0</th>\n",
       "      <th>JAN</th>\n",
       "      <th>FÉV</th>\n",
       "      <th>MAR</th>\n",
       "      <th>AVR</th>\n",
       "      <th>MAI</th>\n",
       "      <th>JUN</th>\n",
       "      <th>JUI</th>\n",
       "      <th>AOÛ</th>\n",
       "      <th>SEP</th>\n",
       "      <th>OCT</th>\n",
       "      <th>NOV</th>\n",
       "      <th>DÉC</th>\n",
       "      <th>TOTAL</th>\n",
       "    </tr>\n",
       "  </thead>\n",
       "  <tbody>\n",
       "    <tr>\n",
       "      <th>0</th>\n",
       "      <td>2010</td>\n",
       "      <td>624.8</td>\n",
       "      <td>474.7</td>\n",
       "      <td>414.9</td>\n",
       "      <td>292.7</td>\n",
       "      <td>260.6</td>\n",
       "      <td>112.6</td>\n",
       "      <td>46.5</td>\n",
       "      <td>93.8</td>\n",
       "      <td>163.6</td>\n",
       "      <td>286.4</td>\n",
       "      <td>419.3</td>\n",
       "      <td>644.1</td>\n",
       "      <td>3833.8</td>\n",
       "    </tr>\n",
       "    <tr>\n",
       "      <th>1</th>\n",
       "      <td>2011</td>\n",
       "      <td>507.2</td>\n",
       "      <td>408.6</td>\n",
       "      <td>368.7</td>\n",
       "      <td>202.0</td>\n",
       "      <td>165.6</td>\n",
       "      <td>117.2</td>\n",
       "      <td>122.5</td>\n",
       "      <td>84.7</td>\n",
       "      <td>101.9</td>\n",
       "      <td>232.3</td>\n",
       "      <td>338.0</td>\n",
       "      <td>424.8</td>\n",
       "      <td>3073.4</td>\n",
       "    </tr>\n",
       "    <tr>\n",
       "      <th>2</th>\n",
       "      <td>2012</td>\n",
       "      <td>454.5</td>\n",
       "      <td>555.6</td>\n",
       "      <td>334.9</td>\n",
       "      <td>344.4</td>\n",
       "      <td>192.8</td>\n",
       "      <td>133.3</td>\n",
       "      <td>95.3</td>\n",
       "      <td>59.6</td>\n",
       "      <td>165.5</td>\n",
       "      <td>262.1</td>\n",
       "      <td>403.3</td>\n",
       "      <td>455.7</td>\n",
       "      <td>3456.9</td>\n",
       "    </tr>\n",
       "  </tbody>\n",
       "</table>\n",
       "</div>"
      ],
      "text/plain": [
       "   Unnamed: 0    JAN    FÉV    MAR    AVR    MAI    JUN    JUI   AOÛ    SEP  \\\n",
       "0        2010  624.8  474.7  414.9  292.7  260.6  112.6   46.5  93.8  163.6   \n",
       "1        2011  507.2  408.6  368.7  202.0  165.6  117.2  122.5  84.7  101.9   \n",
       "2        2012  454.5  555.6  334.9  344.4  192.8  133.3   95.3  59.6  165.5   \n",
       "\n",
       "     OCT    NOV    DÉC   TOTAL  \n",
       "0  286.4  419.3  644.1  3833.8  \n",
       "1  232.3  338.0  424.8  3073.4  \n",
       "2  262.1  403.3  455.7  3456.9  "
      ]
     },
     "execution_count": 24,
     "metadata": {},
     "output_type": "execute_result"
    }
   ],
   "source": [
    "Dju_chauffage = pd.read_csv('dju_chauffage.csv')\n",
    "\n",
    "Dju_chauffage.head(3)"
   ]
  },
  {
   "cell_type": "markdown",
   "metadata": {},
   "source": [
    "Le jeu de données 'Dju_chauffage' est composée de 14 colonnes et 9 lignes. 12 de ces colonnes indiquent le degré jour unifié pour chaque mois de l'année. la première colonne nous indique l'année concernée et la dernière le total annuel. Chaque ligne correspond à une année pour la période allant de 2010 à 2018.\n",
    "\n",
    "Le degré jour est une valeur représentative de l’écart entre la température d’une journée donnée et un seuil de température préétabli (18 °C dans le cas des DJU ou Degré Jour Unifié). Sommés sur une période, ils permettent de calculer les besoins de chauffage d’un bâtiment.\n",
    "    \n",
    "Source : https://cegibat.grdf.fr/simulateur/calcul-dju"
   ]
  },
  {
   "cell_type": "markdown",
   "metadata": {},
   "source": [
    "<a id=\"chapitre_1\"></a>\n",
    "## <span style=\"color: #030aa4\">1. Correction des données de consommation mensuelles de l'effet température (dues au chauffage électrique) en utilisant une régression linéaire</span>"
   ]
  },
  {
   "cell_type": "code",
   "execution_count": 33,
   "metadata": {},
   "outputs": [
    {
     "data": {
      "text/html": [
       "<div>\n",
       "<style scoped>\n",
       "    .dataframe tbody tr th:only-of-type {\n",
       "        vertical-align: middle;\n",
       "    }\n",
       "\n",
       "    .dataframe tbody tr th {\n",
       "        vertical-align: top;\n",
       "    }\n",
       "\n",
       "    .dataframe thead th {\n",
       "        text-align: right;\n",
       "    }\n",
       "</style>\n",
       "<table border=\"1\" class=\"dataframe\">\n",
       "  <thead>\n",
       "    <tr style=\"text-align: right;\">\n",
       "      <th></th>\n",
       "      <th>Mois</th>\n",
       "      <th>consommation_totale_france</th>\n",
       "    </tr>\n",
       "  </thead>\n",
       "  <tbody>\n",
       "    <tr>\n",
       "      <th>0</th>\n",
       "      <td>2012-01</td>\n",
       "      <td>51086</td>\n",
       "    </tr>\n",
       "    <tr>\n",
       "      <th>1</th>\n",
       "      <td>2012-02</td>\n",
       "      <td>54476</td>\n",
       "    </tr>\n",
       "    <tr>\n",
       "      <th>2</th>\n",
       "      <td>2012-03</td>\n",
       "      <td>43156</td>\n",
       "    </tr>\n",
       "  </tbody>\n",
       "</table>\n",
       "</div>"
      ],
      "text/plain": [
       "      Mois  consommation_totale_france\n",
       "0  2012-01                       51086\n",
       "1  2012-02                       54476\n",
       "2  2012-03                       43156"
      ]
     },
     "execution_count": 33,
     "metadata": {},
     "output_type": "execute_result"
    }
   ],
   "source": [
    "data = DonneesMensuelles.loc[:,('Mois','Territoire','Consommation totale')]\n",
    "data = data[data.Territoire=='France']\n",
    "data = data.rename(columns={'Consommation totale':'consommation_totale_france'})\\\n",
    "           .drop(columns='Territoire')\n",
    "\n",
    "data.head(3)"
   ]
  },
  {
   "cell_type": "code",
   "execution_count": null,
   "metadata": {},
   "outputs": [],
   "source": [
    "Dju_clim = Dju_clim.pivot(index ='Produit', columns='Unnamed:0', values='')\n"
   ]
  },
  {
   "cell_type": "code",
   "execution_count": 12,
   "metadata": {},
   "outputs": [],
   "source": [
    "Dju_clim = pd.read_csv('dju_clim.csv')"
   ]
  },
  {
   "cell_type": "markdown",
   "metadata": {},
   "source": [
    "<a id=\"chapitre_2\"></a>\n",
    "## <span style=\"color: #030aa4\">2. Désaisonnalisation de la consommation obtenue après correction, grâce aux moyennes mobiles</span>"
   ]
  },
  {
   "cell_type": "code",
   "execution_count": null,
   "metadata": {},
   "outputs": [],
   "source": []
  },
  {
   "cell_type": "markdown",
   "metadata": {},
   "source": [
    "<a id=\"chapitre_3\"></a>\n",
    "## <span style=\"color: #030aa4\">3. Prévision de la consommation (corrigée de l'effet température) sur un an, en utilisant la méthode de Holt Winters (lissage exponentiel) puis la méthode SARIMA sur la série temportelle</span>"
   ]
  },
  {
   "cell_type": "code",
   "execution_count": null,
   "metadata": {},
   "outputs": [],
   "source": []
  }
 ],
 "metadata": {
  "kernelspec": {
   "display_name": "Python 3",
   "language": "python",
   "name": "python3"
  },
  "language_info": {
   "codemirror_mode": {
    "name": "ipython",
    "version": 3
   },
   "file_extension": ".py",
   "mimetype": "text/x-python",
   "name": "python",
   "nbconvert_exporter": "python",
   "pygments_lexer": "ipython3",
   "version": "3.7.6"
  }
 },
 "nbformat": 4,
 "nbformat_minor": 4
}
